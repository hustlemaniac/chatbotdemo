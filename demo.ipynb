{
 "cells": [
  {
   "cell_type": "markdown",
   "metadata": {},
   "source": [
    "Import dependencies"
   ]
  },
  {
   "cell_type": "code",
   "execution_count": 3,
   "metadata": {},
   "outputs": [],
   "source": [
    "import json \n",
    "import numpy as np \n",
    "import tensorflow as tf\n",
    "from tensorflow import keras\n",
    "from tensorflow.keras.models import Sequential\n",
    "from tensorflow.keras.layers import Dense, Embedding, GlobalAveragePooling1D\n",
    "from tensorflow.keras.preprocessing.text import Tokenizer\n",
    "from tensorflow.keras.preprocessing.sequence import pad_sequences\n",
    "from sklearn.preprocessing import LabelEncoder"
   ]
  },
  {
   "cell_type": "markdown",
   "metadata": {},
   "source": [
    "Intents"
   ]
  },
  {
   "cell_type": "code",
   "execution_count": 2,
   "metadata": {},
   "outputs": [
    {
     "data": {
      "application/vnd.jupyter.widget-view+json": {
       "model_id": "96f085280d2c4c44b79f63e1c4f1915c",
       "version_major": 2,
       "version_minor": 0
      },
      "text/plain": [
       "Box(children=(Box(children=(Label(value='Fruits'), Dropdown(options=('Apple', 'Mango', 'Banana'), value='Apple…"
      ]
     },
     "execution_count": 2,
     "metadata": {},
     "output_type": "execute_result"
    }
   ],
   "source": [
    "# Python program to set alignment\n",
    "# of each dropdown widget in Jupyter\n",
    "\n",
    "# Import the library ipywidgets\n",
    "from ipywidgets import Layout, Box, Dropdown, Label\n",
    "\n",
    "# Function for displaying of dropdown 'Fruits'\n",
    "form_item_fruits = Layout(\n",
    "\n",
    "\t# Other values of display:flex, grid\n",
    "\tdisplay='flex',\n",
    "\n",
    "\t# Other values of flex_flow:row,column\n",
    "\tflex_flow='column',\n",
    "\n",
    "\t# Other values of align_items:\n",
    "\t# center, flex-start, flex-end, stretch\n",
    "\talign_items='flex-end',\n",
    "\tborder='solid',\n",
    "\twidth='70%'\n",
    ")\n",
    "\n",
    "# Function for displaying of dropdown\n",
    "# 'Vegetables'\n",
    "form_item_vegetables = Layout(\n",
    "\n",
    "\t# Other values of display:flex, grid\n",
    "\tdisplay='grid',\n",
    "\n",
    "\t# Other values of flex_flow:row,column\n",
    "\tflex_flow='row',\n",
    "\t\n",
    "\t# Other values of align_items:\n",
    "\t# center, flex-start, flex-end, stretch\n",
    "\talign_items='flex-start',\n",
    "\twidth='80%'\n",
    ")\n",
    "\n",
    "# Creating dropdowns 'Fruits' and 'Vegetables'\n",
    "form_items = [\n",
    "\tBox([Label(value='Fruits'),\n",
    "\t\tDropdown(options=['Apple',\n",
    "\t\t\t\t\t\t'Mango',\n",
    "\t\t\t\t\t\t'Banana'])],\n",
    "\t\tlayout=form_item_fruits),\n",
    "\tBox([Label(value='Vegetables'),\n",
    "\t\tDropdown(options=['Brinjal',\n",
    "\t\t\t\t\t\t'Tomato',\n",
    "\t\t\t\t\t\t'Carrot',\n",
    "\t\t\t\t\t\t'Beans'])],\n",
    "\t\tlayout=form_item_vegetables)\n",
    "]\n",
    "\n",
    "# Displaying of dropdowns in box\n",
    "dropdown = Box(form_items, layout=Layout(\n",
    "\tdisplay='flex',\n",
    "\tflex_flow='column',\n",
    "\tborder='solid 2px',\n",
    "\talign_items='center',\n",
    "\twidth='80%'\n",
    "))\n",
    "\n",
    "# Calling the widget box\n",
    "dropdown\n"
   ]
  },
  {
   "cell_type": "code",
   "execution_count": 3,
   "metadata": {},
   "outputs": [
    {
     "ename": "TraitError",
     "evalue": "Invalid selection: value not found",
     "output_type": "error",
     "traceback": [
      "\u001b[0;31m---------------------------------------------------------------------------\u001b[0m",
      "\u001b[0;31mStopIteration\u001b[0m                             Traceback (most recent call last)",
      "File \u001b[0;32m~/Documents/chatbotdemo/bot/lib/python3.10/site-packages/ipywidgets/widgets/widget_selection.py:133\u001b[0m, in \u001b[0;36mfindvalue\u001b[0;34m(array, value, compare)\u001b[0m\n\u001b[1;32m    132\u001b[0m \u001b[39mtry\u001b[39;00m:\n\u001b[0;32m--> 133\u001b[0m     \u001b[39mreturn\u001b[39;00m \u001b[39mnext\u001b[39;49m(x \u001b[39mfor\u001b[39;49;00m x \u001b[39min\u001b[39;49;00m array \u001b[39mif\u001b[39;49;00m compare(x, value))\n\u001b[1;32m    134\u001b[0m \u001b[39mexcept\u001b[39;00m \u001b[39mStopIteration\u001b[39;00m:\n",
      "\u001b[0;31mStopIteration\u001b[0m: ",
      "\nDuring handling of the above exception, another exception occurred:\n",
      "\u001b[0;31mValueError\u001b[0m                                Traceback (most recent call last)",
      "File \u001b[0;32m~/Documents/chatbotdemo/bot/lib/python3.10/site-packages/ipywidgets/widgets/widget_selection.py:242\u001b[0m, in \u001b[0;36m_Selection._validate_value\u001b[0;34m(self, proposal)\u001b[0m\n\u001b[1;32m    241\u001b[0m \u001b[39mtry\u001b[39;00m:\n\u001b[0;32m--> 242\u001b[0m     \u001b[39mreturn\u001b[39;00m findvalue(\u001b[39mself\u001b[39;49m\u001b[39m.\u001b[39;49m_options_values, value, \u001b[39mself\u001b[39;49m\u001b[39m.\u001b[39;49mequals) \u001b[39mif\u001b[39;00m value \u001b[39mis\u001b[39;00m \u001b[39mnot\u001b[39;00m \u001b[39mNone\u001b[39;00m \u001b[39melse\u001b[39;00m \u001b[39mNone\u001b[39;00m\n\u001b[1;32m    243\u001b[0m \u001b[39mexcept\u001b[39;00m \u001b[39mValueError\u001b[39;00m:\n",
      "File \u001b[0;32m~/Documents/chatbotdemo/bot/lib/python3.10/site-packages/ipywidgets/widgets/widget_selection.py:135\u001b[0m, in \u001b[0;36mfindvalue\u001b[0;34m(array, value, compare)\u001b[0m\n\u001b[1;32m    134\u001b[0m \u001b[39mexcept\u001b[39;00m \u001b[39mStopIteration\u001b[39;00m:\n\u001b[0;32m--> 135\u001b[0m     \u001b[39mraise\u001b[39;00m \u001b[39mValueError\u001b[39;00m(\u001b[39m'\u001b[39m\u001b[39m%r\u001b[39;00m\u001b[39m not in array\u001b[39m\u001b[39m'\u001b[39m\u001b[39m%\u001b[39mvalue)\n",
      "\u001b[0;31mValueError\u001b[0m: ['red', 'green', 'blue'] not in array",
      "\nDuring handling of the above exception, another exception occurred:\n",
      "\u001b[0;31mTraitError\u001b[0m                                Traceback (most recent call last)",
      "Cell \u001b[0;32mIn[3], line 2\u001b[0m\n\u001b[1;32m      1\u001b[0m \u001b[39mfrom\u001b[39;00m \u001b[39mipywidgets\u001b[39;00m \u001b[39mimport\u001b[39;00m Dropdown\n\u001b[0;32m----> 2\u001b[0m dropdown \u001b[39m=\u001b[39m Dropdown(options\u001b[39m=\u001b[39;49m[\u001b[39m'\u001b[39;49m\u001b[39mred\u001b[39;49m\u001b[39m'\u001b[39;49m, \u001b[39m'\u001b[39;49m\u001b[39mgreen\u001b[39;49m\u001b[39m'\u001b[39;49m, \u001b[39m'\u001b[39;49m\u001b[39mblue\u001b[39;49m\u001b[39m'\u001b[39;49m], value\u001b[39m=\u001b[39;49m[\u001b[39m'\u001b[39;49m\u001b[39mred\u001b[39;49m\u001b[39m'\u001b[39;49m, \u001b[39m'\u001b[39;49m\u001b[39mgreen\u001b[39;49m\u001b[39m'\u001b[39;49m, \u001b[39m'\u001b[39;49m\u001b[39mblue\u001b[39;49m\u001b[39m'\u001b[39;49m], description\u001b[39m=\u001b[39;49m\u001b[39m'\u001b[39;49m\u001b[39mColor:\u001b[39;49m\u001b[39m'\u001b[39;49m)\n\u001b[1;32m      3\u001b[0m display(dropdown)\n\u001b[1;32m      4\u001b[0m \u001b[39mprint\u001b[39m(dropdown\u001b[39m.\u001b[39mvalue) \u001b[39m# prints 'red'\u001b[39;00m\n",
      "File \u001b[0;32m~/Documents/chatbotdemo/bot/lib/python3.10/site-packages/ipywidgets/widgets/widget_selection.py:186\u001b[0m, in \u001b[0;36m_Selection.__init__\u001b[0;34m(self, *args, **kwargs)\u001b[0m\n\u001b[1;32m    183\u001b[0m     kwargs[\u001b[39m'\u001b[39m\u001b[39mindex\u001b[39m\u001b[39m'\u001b[39m] \u001b[39m=\u001b[39m \u001b[39m0\u001b[39m \u001b[39mif\u001b[39;00m nonempty \u001b[39melse\u001b[39;00m \u001b[39mNone\u001b[39;00m\n\u001b[1;32m    184\u001b[0m     kwargs[\u001b[39m'\u001b[39m\u001b[39mlabel\u001b[39m\u001b[39m'\u001b[39m], kwargs[\u001b[39m'\u001b[39m\u001b[39mvalue\u001b[39m\u001b[39m'\u001b[39m] \u001b[39m=\u001b[39m options[\u001b[39m0\u001b[39m] \u001b[39mif\u001b[39;00m nonempty \u001b[39melse\u001b[39;00m (\u001b[39mNone\u001b[39;00m, \u001b[39mNone\u001b[39;00m)\n\u001b[0;32m--> 186\u001b[0m \u001b[39msuper\u001b[39;49m()\u001b[39m.\u001b[39;49m\u001b[39m__init__\u001b[39;49m(\u001b[39m*\u001b[39;49margs, \u001b[39m*\u001b[39;49m\u001b[39m*\u001b[39;49mkwargs)\n\u001b[1;32m    187\u001b[0m \u001b[39mself\u001b[39m\u001b[39m.\u001b[39m_initializing_traits_ \u001b[39m=\u001b[39m \u001b[39mFalse\u001b[39;00m\n",
      "File \u001b[0;32m~/Documents/chatbotdemo/bot/lib/python3.10/site-packages/ipywidgets/widgets/widget_description.py:35\u001b[0m, in \u001b[0;36mDescriptionWidget.__init__\u001b[0;34m(self, *args, **kwargs)\u001b[0m\n\u001b[1;32m     33\u001b[0m     kwargs\u001b[39m.\u001b[39msetdefault(\u001b[39m'\u001b[39m\u001b[39mtooltip\u001b[39m\u001b[39m'\u001b[39m, kwargs[\u001b[39m'\u001b[39m\u001b[39mdescription_tooltip\u001b[39m\u001b[39m'\u001b[39m])\n\u001b[1;32m     34\u001b[0m     \u001b[39mdel\u001b[39;00m kwargs[\u001b[39m'\u001b[39m\u001b[39mdescription_tooltip\u001b[39m\u001b[39m'\u001b[39m]\n\u001b[0;32m---> 35\u001b[0m \u001b[39msuper\u001b[39;49m()\u001b[39m.\u001b[39;49m\u001b[39m__init__\u001b[39;49m(\u001b[39m*\u001b[39;49margs, \u001b[39m*\u001b[39;49m\u001b[39m*\u001b[39;49mkwargs)\n",
      "File \u001b[0;32m~/Documents/chatbotdemo/bot/lib/python3.10/site-packages/ipywidgets/widgets/widget.py:503\u001b[0m, in \u001b[0;36mWidget.__init__\u001b[0;34m(self, **kwargs)\u001b[0m\n\u001b[1;32m    501\u001b[0m \u001b[39m\u001b[39m\u001b[39m\"\"\"Public constructor\"\"\"\u001b[39;00m\n\u001b[1;32m    502\u001b[0m \u001b[39mself\u001b[39m\u001b[39m.\u001b[39m_model_id \u001b[39m=\u001b[39m kwargs\u001b[39m.\u001b[39mpop(\u001b[39m'\u001b[39m\u001b[39mmodel_id\u001b[39m\u001b[39m'\u001b[39m, \u001b[39mNone\u001b[39;00m)\n\u001b[0;32m--> 503\u001b[0m \u001b[39msuper\u001b[39;49m()\u001b[39m.\u001b[39;49m\u001b[39m__init__\u001b[39;49m(\u001b[39m*\u001b[39;49m\u001b[39m*\u001b[39;49mkwargs)\n\u001b[1;32m    505\u001b[0m Widget\u001b[39m.\u001b[39m_call_widget_constructed(\u001b[39mself\u001b[39m)\n\u001b[1;32m    506\u001b[0m \u001b[39mself\u001b[39m\u001b[39m.\u001b[39mopen()\n",
      "File \u001b[0;32m~/Documents/chatbotdemo/bot/lib/python3.10/site-packages/traitlets/traitlets.py:1361\u001b[0m, in \u001b[0;36mHasTraits.__init__\u001b[0;34m(self, *args, **kwargs)\u001b[0m\n\u001b[1;32m   1359\u001b[0m changed \u001b[39m=\u001b[39m \u001b[39mset\u001b[39m(kwargs) \u001b[39m&\u001b[39m \u001b[39mset\u001b[39m(\u001b[39mself\u001b[39m\u001b[39m.\u001b[39m_traits)\n\u001b[1;32m   1360\u001b[0m \u001b[39mfor\u001b[39;00m key \u001b[39min\u001b[39;00m changed:\n\u001b[0;32m-> 1361\u001b[0m     value \u001b[39m=\u001b[39m \u001b[39mself\u001b[39;49m\u001b[39m.\u001b[39;49m_traits[key]\u001b[39m.\u001b[39;49m_cross_validate(\u001b[39mself\u001b[39;49m, \u001b[39mgetattr\u001b[39;49m(\u001b[39mself\u001b[39;49m, key))\n\u001b[1;32m   1362\u001b[0m     \u001b[39mself\u001b[39m\u001b[39m.\u001b[39mset_trait(key, value)\n\u001b[1;32m   1363\u001b[0m     changes[key][\u001b[39m'\u001b[39m\u001b[39mnew\u001b[39m\u001b[39m'\u001b[39m] \u001b[39m=\u001b[39m value\n",
      "File \u001b[0;32m~/Documents/chatbotdemo/bot/lib/python3.10/site-packages/traitlets/traitlets.py:746\u001b[0m, in \u001b[0;36mTraitType._cross_validate\u001b[0;34m(self, obj, value)\u001b[0m\n\u001b[1;32m    744\u001b[0m \u001b[39mif\u001b[39;00m \u001b[39mself\u001b[39m\u001b[39m.\u001b[39mname \u001b[39min\u001b[39;00m obj\u001b[39m.\u001b[39m_trait_validators:\n\u001b[1;32m    745\u001b[0m     proposal \u001b[39m=\u001b[39m Bunch({\u001b[39m\"\u001b[39m\u001b[39mtrait\u001b[39m\u001b[39m\"\u001b[39m: \u001b[39mself\u001b[39m, \u001b[39m\"\u001b[39m\u001b[39mvalue\u001b[39m\u001b[39m\"\u001b[39m: value, \u001b[39m\"\u001b[39m\u001b[39mowner\u001b[39m\u001b[39m\"\u001b[39m: obj})\n\u001b[0;32m--> 746\u001b[0m     value \u001b[39m=\u001b[39m obj\u001b[39m.\u001b[39;49m_trait_validators[\u001b[39mself\u001b[39;49m\u001b[39m.\u001b[39;49mname](obj, proposal)\n\u001b[1;32m    747\u001b[0m \u001b[39melif\u001b[39;00m \u001b[39mhasattr\u001b[39m(obj, \u001b[39m\"\u001b[39m\u001b[39m_\u001b[39m\u001b[39m%s\u001b[39;00m\u001b[39m_validate\u001b[39m\u001b[39m\"\u001b[39m \u001b[39m%\u001b[39m \u001b[39mself\u001b[39m\u001b[39m.\u001b[39mname):\n\u001b[1;32m    748\u001b[0m     meth_name \u001b[39m=\u001b[39m \u001b[39m\"\u001b[39m\u001b[39m_\u001b[39m\u001b[39m%s\u001b[39;00m\u001b[39m_validate\u001b[39m\u001b[39m\"\u001b[39m \u001b[39m%\u001b[39m \u001b[39mself\u001b[39m\u001b[39m.\u001b[39mname\n",
      "File \u001b[0;32m~/Documents/chatbotdemo/bot/lib/python3.10/site-packages/traitlets/traitlets.py:1233\u001b[0m, in \u001b[0;36mEventHandler.__call__\u001b[0;34m(self, *args, **kwargs)\u001b[0m\n\u001b[1;32m   1231\u001b[0m \u001b[39m\u001b[39m\u001b[39m\"\"\"Pass `*args` and `**kwargs` to the handler's function if it exists.\"\"\"\u001b[39;00m\n\u001b[1;32m   1232\u001b[0m \u001b[39mif\u001b[39;00m \u001b[39mhasattr\u001b[39m(\u001b[39mself\u001b[39m, \u001b[39m\"\u001b[39m\u001b[39mfunc\u001b[39m\u001b[39m\"\u001b[39m):\n\u001b[0;32m-> 1233\u001b[0m     \u001b[39mreturn\u001b[39;00m \u001b[39mself\u001b[39;49m\u001b[39m.\u001b[39;49mfunc(\u001b[39m*\u001b[39;49margs, \u001b[39m*\u001b[39;49m\u001b[39m*\u001b[39;49mkwargs)\n\u001b[1;32m   1234\u001b[0m \u001b[39melse\u001b[39;00m:\n\u001b[1;32m   1235\u001b[0m     \u001b[39mreturn\u001b[39;00m \u001b[39mself\u001b[39m\u001b[39m.\u001b[39m_init_call(\u001b[39m*\u001b[39margs, \u001b[39m*\u001b[39m\u001b[39m*\u001b[39mkwargs)\n",
      "File \u001b[0;32m~/Documents/chatbotdemo/bot/lib/python3.10/site-packages/ipywidgets/widgets/widget_selection.py:244\u001b[0m, in \u001b[0;36m_Selection._validate_value\u001b[0;34m(self, proposal)\u001b[0m\n\u001b[1;32m    242\u001b[0m     \u001b[39mreturn\u001b[39;00m findvalue(\u001b[39mself\u001b[39m\u001b[39m.\u001b[39m_options_values, value, \u001b[39mself\u001b[39m\u001b[39m.\u001b[39mequals) \u001b[39mif\u001b[39;00m value \u001b[39mis\u001b[39;00m \u001b[39mnot\u001b[39;00m \u001b[39mNone\u001b[39;00m \u001b[39melse\u001b[39;00m \u001b[39mNone\u001b[39;00m\n\u001b[1;32m    243\u001b[0m \u001b[39mexcept\u001b[39;00m \u001b[39mValueError\u001b[39;00m:\n\u001b[0;32m--> 244\u001b[0m     \u001b[39mraise\u001b[39;00m TraitError(\u001b[39m'\u001b[39m\u001b[39mInvalid selection: value not found\u001b[39m\u001b[39m'\u001b[39m)\n",
      "\u001b[0;31mTraitError\u001b[0m: Invalid selection: value not found"
     ]
    }
   ],
   "source": [
    "x_widget = Dropdown(options = ['a','b','c'])\n",
    "y_widget = Dropdown()\n",
    "\n",
    "# Define a function that updates the content of y based on what we select for x\n",
    "def update(*args):\n",
    "    y_widget.options = df[x_widget.value].unique().tolist()\n",
    "x_widget.observe(update)\n",
    "\n",
    "\n",
    "interact(random_function,\n",
    "         x = x_widget,\n",
    "         y = y_widget);\n"
   ]
  },
  {
   "cell_type": "code",
   "execution_count": 1,
   "metadata": {},
   "outputs": [
    {
     "data": {
      "application/vnd.jupyter.widget-view+json": {
       "model_id": "390a5fe134f94550ba55c096052d70c0",
       "version_major": 2,
       "version_minor": 0
      },
      "text/plain": [
       "FileUpload(value={}, accept='.json', description='Upload', multiple=True)"
      ]
     },
     "metadata": {},
     "output_type": "display_data"
    }
   ],
   "source": [
    "from ipywidgets import FileUpload\n",
    "from IPython.display import display\n",
    "upload = FileUpload(accept='.json', multiple=True)\n",
    "display(upload)"
   ]
  }
 ],
 "metadata": {
  "kernelspec": {
   "display_name": "Python 3",
   "language": "python",
   "name": "python3"
  },
  "language_info": {
   "codemirror_mode": {
    "name": "ipython",
    "version": 3
   },
   "file_extension": ".py",
   "mimetype": "text/x-python",
   "name": "python",
   "nbconvert_exporter": "python",
   "pygments_lexer": "ipython3",
   "version": "3.10.8"
  },
  "orig_nbformat": 4
 },
 "nbformat": 4,
 "nbformat_minor": 2
}
